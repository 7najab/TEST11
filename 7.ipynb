{
  "nbformat": 4,
  "nbformat_minor": 0,
  "metadata": {
    "colab": {
      "provenance": []
    },
    "kernelspec": {
      "name": "python3",
      "display_name": "Python 3"
    },
    "language_info": {
      "name": "python"
    },
    "widgets": {
      "application/vnd.jupyter.widget-state+json": {
        "99a74536ceb64c4989d4e4e8581c1660": {
          "model_module": "@jupyter-widgets/controls",
          "model_name": "ButtonModel",
          "model_module_version": "1.5.0",
          "state": {
            "_dom_classes": [],
            "_model_module": "@jupyter-widgets/controls",
            "_model_module_version": "1.5.0",
            "_model_name": "ButtonModel",
            "_view_count": null,
            "_view_module": "@jupyter-widgets/controls",
            "_view_module_version": "1.5.0",
            "_view_name": "ButtonView",
            "button_style": "",
            "description": "Натисни мене",
            "disabled": false,
            "icon": "",
            "layout": "IPY_MODEL_194434123d7844d48c92a6622a30831b",
            "style": "IPY_MODEL_77ac406712a843f8bedbf3c040f233c9",
            "tooltip": ""
          }
        },
        "194434123d7844d48c92a6622a30831b": {
          "model_module": "@jupyter-widgets/base",
          "model_name": "LayoutModel",
          "model_module_version": "1.2.0",
          "state": {
            "_model_module": "@jupyter-widgets/base",
            "_model_module_version": "1.2.0",
            "_model_name": "LayoutModel",
            "_view_count": null,
            "_view_module": "@jupyter-widgets/base",
            "_view_module_version": "1.2.0",
            "_view_name": "LayoutView",
            "align_content": null,
            "align_items": null,
            "align_self": null,
            "border": null,
            "bottom": null,
            "display": null,
            "flex": null,
            "flex_flow": null,
            "grid_area": null,
            "grid_auto_columns": null,
            "grid_auto_flow": null,
            "grid_auto_rows": null,
            "grid_column": null,
            "grid_gap": null,
            "grid_row": null,
            "grid_template_areas": null,
            "grid_template_columns": null,
            "grid_template_rows": null,
            "height": null,
            "justify_content": null,
            "justify_items": null,
            "left": null,
            "margin": null,
            "max_height": null,
            "max_width": null,
            "min_height": null,
            "min_width": null,
            "object_fit": null,
            "object_position": null,
            "order": null,
            "overflow": null,
            "overflow_x": null,
            "overflow_y": null,
            "padding": null,
            "right": null,
            "top": null,
            "visibility": null,
            "width": null
          }
        },
        "77ac406712a843f8bedbf3c040f233c9": {
          "model_module": "@jupyter-widgets/controls",
          "model_name": "ButtonStyleModel",
          "model_module_version": "1.5.0",
          "state": {
            "_model_module": "@jupyter-widgets/controls",
            "_model_module_version": "1.5.0",
            "_model_name": "ButtonStyleModel",
            "_view_count": null,
            "_view_module": "@jupyter-widgets/base",
            "_view_module_version": "1.2.0",
            "_view_name": "StyleView",
            "button_color": null,
            "font_weight": ""
          }
        }
      }
    }
  },
  "cells": [
    {
      "cell_type": "code",
      "execution_count": 2,
      "metadata": {
        "colab": {
          "base_uri": "https://localhost:8080/",
          "height": 101,
          "referenced_widgets": [
            "99a74536ceb64c4989d4e4e8581c1660",
            "194434123d7844d48c92a6622a30831b",
            "77ac406712a843f8bedbf3c040f233c9"
          ]
        },
        "id": "VPMA-DgFg4yW",
        "outputId": "97977ef2-a32b-4676-8d69-b03862573245"
      },
      "outputs": [
        {
          "output_type": "display_data",
          "data": {
            "text/plain": [
              "Button(description='Натисни мене', style=ButtonStyle())"
            ],
            "application/vnd.jupyter.widget-view+json": {
              "version_major": 2,
              "version_minor": 0,
              "model_id": "99a74536ceb64c4989d4e4e8581c1660"
            }
          },
          "metadata": {}
        },
        {
          "output_type": "stream",
          "name": "stdout",
          "text": [
            "== Подія: Натискання кнопки ==\n",
            "[Logger] Отримано подію: Click\n",
            "[ActionHandler] Оброблено натискання кнопки!\n"
          ]
        }
      ],
      "source": [
        "import ipywidgets as widgets\n",
        "from IPython.display import display, clear_output\n",
        "\n",
        "\n",
        "class Event:\n",
        "    def __init__(self, name):\n",
        "        self.name = name\n",
        "\n",
        "# (Chain of Responsibility)\n",
        "class Handler:\n",
        "    def __init__(self, next_handler=None):\n",
        "        self.next_handler = next_handler\n",
        "\n",
        "    def handle(self, event):\n",
        "        handled = self.process(event)\n",
        "        if not handled and self.next_handler:\n",
        "            self.next_handler.handle(event)\n",
        "\n",
        "    def process(self, event):\n",
        "        \"\"\"Має повертати True, якщо подія оброблена.\"\"\"\n",
        "        raise NotImplementedError()\n",
        "\n",
        "# логгер\n",
        "class LoggerHandler(Handler):\n",
        "    def process(self, event):\n",
        "        print(f\"[Logger] Отримано подію: {event.name}\")\n",
        "        return False  # не обробляє, лише лог\n",
        "\n",
        "# \"Click\"\n",
        "class ActionHandler(Handler):\n",
        "    def process(self, event):\n",
        "        if event.name == \"Click\":\n",
        "            print(\"[ActionHandler] Оброблено натискання кнопки!\")\n",
        "            return True\n",
        "        return False\n",
        "\n",
        "# обробляє все інше\n",
        "class FinalHandler(Handler):\n",
        "    def process(self, event):\n",
        "        print(f\"[FinalHandler] Оброблено подію за замовчуванням: {event.name}\")\n",
        "        return True\n",
        "\n",
        "\n",
        "button = widgets.Button(description=\"Натисни мене\")\n",
        "\n",
        "# Л Logger -> Action -> Final\n",
        "chain = LoggerHandler(ActionHandler(FinalHandler()))\n",
        "\n",
        "\n",
        "def on_button_click(b):\n",
        "    clear_output()\n",
        "    display(button)\n",
        "    print(\"== Подія: Натискання кнопки ==\")\n",
        "    event = Event(\"Click\")\n",
        "    chain.handle(event)\n",
        "\n",
        "\n",
        "button.on_click(on_button_click)\n",
        "\n",
        "\n",
        "display(button)\n"
      ]
    }
  ]
}