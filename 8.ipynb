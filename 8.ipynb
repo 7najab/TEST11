{
  "nbformat": 4,
  "nbformat_minor": 0,
  "metadata": {
    "colab": {
      "provenance": []
    },
    "kernelspec": {
      "name": "python3",
      "display_name": "Python 3"
    },
    "language_info": {
      "name": "python"
    }
  },
  "cells": [
    {
      "cell_type": "code",
      "execution_count": 2,
      "metadata": {
        "colab": {
          "base_uri": "https://localhost:8080/"
        },
        "id": "Y-z7m6VMidIg",
        "outputId": "2f2daefc-269f-4dff-db16-1ad78c5feb16"
      },
      "outputs": [
        {
          "output_type": "stream",
          "name": "stdout",
          "text": [
            "Обхід дерева в глибину:\n",
            "Україна\n",
            "Львівська область\n",
            "Львівський район\n",
            "Львів\n",
            "вул. Шевченка\n",
            "вул. Городоцька\n",
            "Київська область\n",
            "Броварський район\n",
            "Бровари\n",
            "вул. Київська\n",
            "вул. Незалежності\n"
          ]
        }
      ],
      "source": [
        "class GeoNode:\n",
        "    def __init__(self, name):\n",
        "        self.name = name\n",
        "        self.children = []\n",
        "\n",
        "    def add_child(self, node):\n",
        "        self.children.append(node)\n",
        "\n",
        "    def __repr__(self):\n",
        "        return f\"GeoNode('{self.name}')\"\n",
        "\n",
        "# Клас-ітератор для обходу дерева в глибину\n",
        "class DepthFirstIterator:\n",
        "    def __init__(self, root):\n",
        "        self.stack = [root] #обхід\n",
        "\n",
        "    def __iter__(self):\n",
        "        return self # певертає сс\n",
        "\n",
        "    def __next__(self):\n",
        "        if not self.stack:\n",
        "            raise StopIteration\n",
        "\n",
        "        current = self.stack.pop()\n",
        "        self.stack.extend(reversed(current.children))  # додаємо дітей у стек у зворотному порядку\n",
        "        return current\n",
        "\n",
        "\n",
        "\n",
        "ukraine = GeoNode(\"Україна\")\n",
        "\n",
        "\n",
        "lvivska = GeoNode(\"Львівська область\")\n",
        "kyivska = GeoNode(\"Київська область\")\n",
        "ukraine.add_child(lvivska)\n",
        "ukraine.add_child(kyivska)\n",
        "\n",
        "\n",
        "lvivskyi_rayon = GeoNode(\"Львівський район\")\n",
        "brovarskyi_rayon = GeoNode(\"Броварський район\")\n",
        "lvivska.add_child(lvivskyi_rayon)\n",
        "kyivska.add_child(brovarskyi_rayon)\n",
        "\n",
        "\n",
        "lviv = GeoNode(\"Львів\")\n",
        "brovary = GeoNode(\"Бровари\")\n",
        "lvivskyi_rayon.add_child(lviv)\n",
        "brovarskyi_rayon.add_child(brovary)\n",
        "\n",
        "\n",
        "lviv.add_child(GeoNode(\"вул. Шевченка\"))\n",
        "lviv.add_child(GeoNode(\"вул. Городоцька\"))\n",
        "brovary.add_child(GeoNode(\"вул. Київська\"))\n",
        "brovary.add_child(GeoNode(\"вул. Незалежності\"))\n",
        "\n",
        "\n",
        "\n",
        "# Тест ітератора\n",
        "print(\"Обхід дерева в глибину:\")\n",
        "for node in DepthFirstIterator(ukraine):\n",
        "    print(node.name)\n"
      ]
    }
  ]
}