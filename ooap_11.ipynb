{
  "nbformat": 4,
  "nbformat_minor": 0,
  "metadata": {
    "colab": {
      "provenance": []
    },
    "kernelspec": {
      "name": "python3",
      "display_name": "Python 3"
    },
    "language_info": {
      "name": "python"
    }
  },
  "cells": [
    {
      "cell_type": "code",
      "execution_count": 12,
      "metadata": {
        "id": "UuSLOsLX8pYT",
        "colab": {
          "base_uri": "https://localhost:8080/"
        },
        "outputId": "95ea52b8-9740-43bc-e3db-f954b055ab6c"
      },
      "outputs": [
        {
          "output_type": "stream",
          "name": "stdout",
          "text": [
            "✅ Завантажено. Виводимо перші 25 фільмів з IMDB:\n",
            "\n",
            "🎬 The Shawshank Redemption\n",
            "🎬 The Godfather\n",
            "🎬 The Dark Knight\n",
            "🎬 The Godfather Part II\n",
            "🎬 12 Angry Men\n",
            "🎬 The Lord of the Rings: The Return of the King\n",
            "🎬 Schindler's List\n",
            "🎬 Pulp Fiction\n",
            "🎬 The Lord of the Rings: The Fellowship of the Ring\n",
            "🎬 The Good, the Bad and the Ugly\n",
            "🎬 Forrest Gump\n",
            "🎬 The Lord of the Rings: The Two Towers\n",
            "🎬 Fight Club\n",
            "🎬 Inception\n",
            "🎬 Star Wars: Episode V - The Empire Strikes Back\n",
            "🎬 The Matrix\n",
            "🎬 Goodfellas\n",
            "🎬 Interstellar\n",
            "🎬 One Flew Over the Cuckoo's Nest\n",
            "🎬 Se7en\n",
            "🎬 It's a Wonderful Life\n",
            "🎬 The Silence of the Lambs\n",
            "🎬 Seven Samurai\n",
            "🎬 Saving Private Ryan\n",
            "🎬 City of God\n"
          ]
        }
      ],
      "source": [
        "import requests\n",
        "from bs4 import BeautifulSoup\n",
        "import concurrent.futures\n",
        "\n",
        "url = \"https://www.imdb.com/chart/top/\"\n",
        "\n",
        "def fetch_html():\n",
        "    headers = {\n",
        "        'Accept-Language': 'en-US,en;q=0.9',\n",
        "        'User-Agent': 'Mozilla/5.0 (Windows NT 10.0; Win64; x64) AppleWebKit/537.36 (KHTML, like Gecko) Chrome/123.0.0.0 Safari/537.36'\n",
        "    }\n",
        "    response = requests.get(url, headers=headers)\n",
        "    response.raise_for_status()\n",
        "    return response.text\n",
        "\n",
        "def parse_titles(html):\n",
        "    soup = BeautifulSoup(html, 'html.parser')\n",
        "    all_titles = soup.select('.ipc-title__text')\n",
        "    titles = []\n",
        "\n",
        "    for title in all_titles:\n",
        "        text = title.get_text(strip=True)\n",
        "        if text and text[0].isdigit():\n",
        "            cleaned_title = ' '.join(text.split()[1:])\n",
        "            titles.append(cleaned_title)\n",
        "        if len(titles) == 25:\n",
        "            break\n",
        "\n",
        "    return titles\n",
        "\n",
        "def display_title(title):\n",
        "    print(f\"🎬 {title}\")\n",
        "\n",
        "def main():\n",
        "    html = fetch_html()\n",
        "    titles = parse_titles(html)\n",
        "\n",
        "    print(\"✅ Завантажено. Виводимо перші 25 фільмів з IMDB:\\n\")\n",
        "\n",
        "    with concurrent.futures.ThreadPoolExecutor() as executor:\n",
        "        executor.map(display_title, titles)\n",
        "\n",
        "main()\n"
      ]
    }
  ]
}