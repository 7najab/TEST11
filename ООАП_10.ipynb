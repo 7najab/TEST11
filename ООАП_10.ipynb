{
  "nbformat": 4,
  "nbformat_minor": 0,
  "metadata": {
    "colab": {
      "provenance": []
    },
    "kernelspec": {
      "name": "python3",
      "display_name": "Python 3"
    },
    "language_info": {
      "name": "python"
    }
  },
  "cells": [
    {
      "cell_type": "code",
      "execution_count": 18,
      "metadata": {
        "colab": {
          "base_uri": "https://localhost:8080/"
        },
        "id": "huNrN-tD2m7v",
        "outputId": "e10c7bac-ef85-4386-df21-3571ba393dad"
      },
      "outputs": [
        {
          "output_type": "stream",
          "name": "stdout",
          "text": [
            "Юніт 1 успішно пройшов ліс завдяки Амулету швидкості!\n",
            "Юніт 1 не зміг перепливти річку без необхідного артефакту.\n",
            "Юніт 1 не зміг подолати гори без необхідного артефакту.\n",
            "Юніт 1 не зміг пройти комбінований шлях без необхідних артефактів.\n"
          ]
        }
      ],
      "source": [
        "import random\n",
        "from abc import ABC, abstractmethod\n",
        "\n",
        "\n",
        "class ScenarioStrategy(ABC):\n",
        "    @abstractmethod\n",
        "    def pass_challenge(self, unit):\n",
        "        pass\n",
        "\n",
        "# Сценарій для Лісу\n",
        "class ForestScenario(ScenarioStrategy):\n",
        "    def pass_challenge(self, unit):\n",
        "        if \"Амулет швидкості\" in unit.artifacts:\n",
        "            print(f\"{unit.name} успішно пройшов ліс завдяки Амулету швидкості!\")\n",
        "        else:\n",
        "            print(f\"{unit.name} не зміг пройти ліс без необхідного артефакту.\")\n",
        "\n",
        "# Сценарій для Річки\n",
        "class RiverScenario(ScenarioStrategy):\n",
        "    def pass_challenge(self, unit):\n",
        "        if \"Черевики водяного кроку\" in unit.artifacts:\n",
        "            print(f\"{unit.name} успішно переплив річку завдяки Черевикам водяного кроку!\")\n",
        "        else:\n",
        "            print(f\"{unit.name} не зміг перепливти річку без необхідного артефакту.\")\n",
        "\n",
        "# Сценарій для Гір\n",
        "class MountainScenario(ScenarioStrategy):\n",
        "    def pass_challenge(self, unit):\n",
        "        if \"Клинок гірських шляхів\" in unit.artifacts:\n",
        "            print(f\"{unit.name} успішно подолав гори завдяки Клинку гірських шляхів!\")\n",
        "        else:\n",
        "            print(f\"{unit.name} не зміг подолати гори без необхідного артефакту.\")\n",
        "\n",
        "# Сценарій для комбінованого шляху (ліс + річка + гори)\n",
        "class CombinedScenario(ScenarioStrategy):\n",
        "    def pass_challenge(self, unit):\n",
        "        if \"Амулет швидкості\" in unit.artifacts and \"Черевики водяного кроку\" in unit.artifacts:\n",
        "            print(f\"{unit.name} успішно подолав комбінований шлях завдяки своїм артефактам!\")\n",
        "        else:\n",
        "            print(f\"{unit.name} не зміг пройти комбінований шлях без необхідних артефактів.\")\n",
        "\n",
        "\n",
        "class Artifact:\n",
        "    def __init__(self, name):\n",
        "        self.name = name\n",
        "\n",
        "# Клас для юніта\n",
        "class Unit:\n",
        "    def __init__(self, name, artifacts):\n",
        "        self.name = name\n",
        "        self.artifacts = artifacts  # Список артефактів юніта\n",
        "\n",
        "\n",
        "    @staticmethod\n",
        "    def generate_random_artifacts(artifact_list):\n",
        "        return random.sample(artifact_list, 2)\n",
        "\n",
        "\n",
        "artifact_list = [\n",
        "    Artifact(\"Амулет швидкості\"),\n",
        "    Artifact(\"Черевики водяного кроку\"),\n",
        "    Artifact(\"Клинок гірських шляхів\"),\n",
        "    Artifact(\"Магічний щит\")\n",
        "]\n",
        "\n",
        "# Створення юніта з рандомними артефактами\n",
        "unit_name = \"Юніт 1\"\n",
        "random_artifacts = Unit.generate_random_artifacts(artifact_list)\n",
        "\n",
        "\n",
        "unit_1 = Unit(unit_name, [artifact.name for artifact in random_artifacts])\n",
        "\n",
        "\n",
        "forest_scenario = ForestScenario()\n",
        "river_scenario = RiverScenario()\n",
        "mountain_scenario = MountainScenario()\n",
        "combined_scenario = CombinedScenario()\n",
        "\n",
        "\n",
        "forest_scenario.pass_challenge(unit_1)\n",
        "river_scenario.pass_challenge(unit_1)\n",
        "mountain_scenario.pass_challenge(unit_1)\n",
        "combined_scenario.pass_challenge(unit_1)\n"
      ]
    }
  ]
}